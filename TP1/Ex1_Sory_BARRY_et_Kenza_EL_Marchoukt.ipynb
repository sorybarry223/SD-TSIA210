{
  "cells": [
    {
      "cell_type": "markdown",
      "metadata": {
        "id": "iafPdtuncbq7"
      },
      "source": [
        "<h1><center>MNIST classification using Numpy<center></h1>"
      ]
    },
    {
      "cell_type": "markdown",
      "source": [
        "**NOM: EL MARCHOUK KENZA et BARRY SORY IBRAHIMA**"
      ],
      "metadata": {
        "id": "ZPLVhya1McmI"
      }
    },
    {
      "cell_type": "markdown",
      "metadata": {
        "id": "I4VrCB5La5rD"
      },
      "source": [
        "## Importing Numpy and Keras"
      ]
    },
    {
      "cell_type": "code",
      "execution_count": 34,
      "metadata": {
        "colab": {
          "base_uri": "https://localhost:8080/"
        },
        "id": "OlKZ3Hnas7B4",
        "outputId": "7024b3d5-02a6-49e8-9593-0fa5a854b710"
      },
      "outputs": [
        {
          "output_type": "stream",
          "name": "stdout",
          "text": [
            "Using tensorflow version 2.8.0\n",
            "Using keras version 2.8.0\n"
          ]
        }
      ],
      "source": [
        "import numpy as np\n",
        "import tensorflow as tf\n",
        "import keras\n",
        "print(\"Using tensorflow version \" + str(tf.__version__))\n",
        "print(\"Using keras version \" + str(keras.__version__))"
      ]
    },
    {
      "cell_type": "markdown",
      "metadata": {
        "id": "s_QLz9_jbRZq"
      },
      "source": [
        "## Loading and preparing the MNIST dataset\n",
        "Load the MNIST dataset made available by keras.datasets. Check the size of the training and testing sets. "
      ]
    },
    {
      "cell_type": "code",
      "execution_count": 35,
      "metadata": {
        "cellView": "both",
        "colab": {
          "base_uri": "https://localhost:8080/"
        },
        "id": "gG83hGyVmijn",
        "outputId": "cd8bf7be-e6e6-4484-8ff4-8b01ecedb525"
      },
      "outputs": [
        {
          "output_type": "stream",
          "name": "stdout",
          "text": [
            "the size of training set:  (60000, 28, 28) (60000,)\n",
            "the size of testing sets:  (10000, 28, 28) (10000,)\n",
            "(60000,)\n"
          ]
        }
      ],
      "source": [
        "# The MNSIT dataset is ready to be imported from Keras into RAM\n",
        "# Warning: you cannot do that for larger databases (e.g., ImageNet)\n",
        "from keras.datasets import mnist\n",
        "# START CODE HERE\n",
        "data = mnist.load_data()\n",
        "(X_train, y_train), (X_test, y_test) = data\n",
        "print(\"the size of training set: \",X_train.shape,y_train.shape)\n",
        "print(\"the size of testing sets: \", X_test.shape,y_test.shape)\n",
        "# END CODE HERE\n",
        "print(y_train.shape)"
      ]
    },
    {
      "cell_type": "markdown",
      "metadata": {
        "id": "gRPbU_Z4U6Ac"
      },
      "source": [
        "The MNIST database contains 60,000 training images and 10,000 testing images.\n",
        "Using the pyplot package, visualize the first sample of the training set:"
      ]
    },
    {
      "cell_type": "code",
      "execution_count": 36,
      "metadata": {
        "colab": {
          "base_uri": "https://localhost:8080/",
          "height": 248
        },
        "id": "x5VAu7oW0Zu4",
        "outputId": "b9de2328-13ea-48f8-aa86-0e9aede6a9a0"
      },
      "outputs": [
        {
          "output_type": "display_data",
          "data": {
            "text/plain": [
              "<Figure size 1296x288 with 18 Axes>"
            ],
            "image/png": "[encoded data removed]"
          },
          "metadata": {}
        }
      ],
      "source": [
        "# Let us visualize the first training sample using the Matplotlib library\n",
        "from matplotlib import pyplot as plt\n",
        "# START CODE HERE\n",
        "img_per_row =9\n",
        "fig,ax = plt.subplots(nrows=2, ncols=img_per_row,\n",
        "                      figsize=(18,4),\n",
        "                      subplot_kw=dict(xticks=[], yticks=[]))\n",
        "for row in [0, 1]:\n",
        "    for col in range(img_per_row):\n",
        "        ax[row, col].imshow(X_train[row*img_per_row + col].astype('int'))   \n",
        "plt.show()\n",
        "# END CODE HERE"
      ]
    },
    {
      "cell_type": "markdown",
      "metadata": {
        "id": "s7YsRekMVDg-"
      },
      "source": [
        "The database contains images of handwritten digits. Hence, they belong to one of 10 categories, depending on the digit they represent. \n",
        "Reminder: in order to do multi-class classification, we use the softmax function, which outputs a multinomial probability distribution. That means that the output to our model will be a vector of size $10$, containing probabilities (meaning that the elements of the vector will be positive sum to $1$).\n",
        "For easy computation, we want to true labels to be represented with the same format: that is what we call **one-hot encoding**. For example, if an image $\\mathbf{x}$ represents the digit $5$, we have the corresponding one_hot label (careful, $0$ will be the first digit): \n",
        "$$ \\mathbf{y} = [0, 0, 0, 0, 0, 1, 0, 0, 0, 0] $$\n",
        "Here, you need to turn train and test labels to one-hot encoding using the following function: "
      ]
    },
    {
      "cell_type": "code",
      "execution_count": 37,
      "metadata": {
        "id": "lQbkllF8mnaf"
      },
      "outputs": [],
      "source": [
        "from keras.utils.np_utils import to_categorical\n",
        "# START CODE HERE\n",
        "# one hot encode\n",
        "y_train = to_categorical(y_train,10)\n",
        "y_test = to_categorical(y_test,10)\n",
        "\n",
        "# END CODE HERE"
      ]
    },
    {
      "cell_type": "markdown",
      "metadata": {
        "id": "0jv29YLtVO3q"
      },
      "source": [
        "Images are black and white, with size $28 \\times 28$. We will work with them using a simple linear classification model, meaning that we will have them as vectors of size $(784)$.\n",
        "You should then transform the images to the size $(784)$ using the numpy function ```reshape```.\n",
        "\n",
        "Then, after casting the pixels to floats, normalize the images so that they have zero-mean and unitary deviation. Be careful to your methodology: while you have access to training data, you may not have access to testing data, and must avoid using any statistic on the testing dataset."
      ]
    },
    {
      "cell_type": "code",
      "execution_count": 38,
      "metadata": {
        "id": "ptTRSDo5nJyZ",
        "outputId": "bb016a62-e07b-47aa-cdf8-7809fa7cd825",
        "colab": {
          "base_uri": "https://localhost:8080/"
        }
      },
      "outputs": [
        {
          "output_type": "stream",
          "name": "stdout",
          "text": [
            "Mean before: 33.318, Standard Deviation before: 78.567\n",
            "Mean before test: 33.791, Standard Deviation before test: 79.172\n",
            "Mean: -0.000, Standard Deviation: 1.000\n",
            "Mean est: -0.000, Standard Deviation test: 1.000\n"
          ]
        },
        {
          "output_type": "execute_result",
          "data": {
            "text/plain": [
              "Ellipsis"
            ]
          },
          "metadata": {},
          "execution_count": 38
        }
      ],
      "source": [
        "\n",
        "# Reshape to proper images with 1 color channel according to backend scheme\n",
        "from keras.preprocessing.image import ImageDataGenerator\n",
        "img_rows, img_cols = X_train.shape[1], X_train.shape[2]\n",
        "X_train = X_train.reshape(-1, img_rows*img_cols)\n",
        "X_test=X_test.reshape(len(X_test), -1)\n",
        "# START CODE HERE\n",
        "#train_iterator = datagen.flow(X_train, y_train, batch_size=64)\n",
        "# END CODE HERE\n",
        "\n",
        "# Cast pixels from uint8 to float32\n",
        "train_images = X_train.astype('float32')\n",
        "test_images=X_test.astype('float32')\n",
        "# calculate global mean and standard deviation\n",
        "mean, std = train_images.mean(), train_images.std()\n",
        "mean1,std1= test_images.mean(), test_images.std()\n",
        "print('Mean before: %.3f, Standard Deviation before: %.3f' % (mean, std))\n",
        "print('Mean before test: %.3f, Standard Deviation before test: %.3f' % (mean1, std1))\n",
        "# global standardization of pixels\n",
        "train_images = (train_images - mean) / std\n",
        "test_images = (test_images - mean1) / std1\n",
        "# confirm it had the desired effect\n",
        "mean, std = train_images.mean(), train_images.std()\n",
        "mean1, std1 = test_images.mean(), test_images.std()\n",
        "print('Mean: %.3f, Standard Deviation: %.3f' % (mean, std))\n",
        "print('Mean est: %.3f, Standard Deviation test: %.3f' % (mean1, std1))\n",
        "# Now let us normalize the images so that they have zero mean and standard deviation\n",
        "# Hint: are real testing data statistics known at training time ?\n",
        "# START CODE HERE\n",
        "...\n",
        "# END CODE HERE"
      ]
    },
    {
      "cell_type": "code",
      "source": [
        "train_images.shape"
      ],
      "metadata": {
        "colab": {
          "base_uri": "https://localhost:8080/"
        },
        "id": "HdSNEsUOIuQM",
        "outputId": "3b069fc6-4901-4c00-92d2-494b405e62b5"
      },
      "execution_count": 39,
      "outputs": [
        {
          "output_type": "execute_result",
          "data": {
            "text/plain": [
              "(60000, 784)"
            ]
          },
          "metadata": {},
          "execution_count": 39
        }
      ]
    },
    {
      "cell_type": "markdown",
      "metadata": {
        "id": "OKeM3rj5ld8o"
      },
      "source": [
        "# Working with Numpy\n",
        "\n",
        "Look at this [cheatsheet](https://s3.amazonaws.com/assets.datacamp.com/blog_assets/Numpy_Python_Cheat_Sheet.pdf) for some basic information on how to use numpy.\n",
        "\n",
        "## Defining the model \n",
        "\n",
        "We will here create a simple, linear classification model. We will take each pixel in the image as an input feature (making the size of the input to be $784$) and transform these features with a weight matrix $\\mathbf{W}$ and a bias vector $\\mathbf{b}$. Since there is $10$ possible classes, we want to obtain $10$ scores. Then, \n",
        "$$ \\mathbf{W} \\in \\mathbb{R}^{784 \\times 10} $$\n",
        "$$ \\mathbf{b} \\in \\mathbb{R}^{10} $$\n",
        "\n",
        "and our scores are obtained with:\n",
        "$$ \\mathbf{z} = \\mathbf{W}^{T} \\mathbf{x} +  \\mathbf{b} $$\n",
        "\n",
        "where $\\mathbf{x} \\in \\mathbb{R}^{784}$ is the input vector representing an image.\n",
        "We note $\\mathbf{y} \\in \\mathbb{R}^{10}$ as the target one_hot vector. \n",
        "\n",
        "Here, you fist need to initialize $\\mathbf{W}$ and $\\mathbf{b}$ using ```np.random.normal``` and ```np.zeros```, then compute $\\mathbf{z}$."
      ]
    },
    {
      "cell_type": "code",
      "execution_count": 40,
      "metadata": {
        "id": "qWKdwetUld8o"
      },
      "outputs": [],
      "source": [
        "# To avoid implementing a complicated gradient back-propagation,\n",
        "# we will try a very simple architecture with one layer \n",
        "def initLayer(n_input,n_output):\n",
        "    \"\"\"\n",
        "    Initialize the weights, return the number of parameters\n",
        "    Inputs: n_input: the number of input units - int\n",
        "          : n_output: the number of output units - int\n",
        "    Outputs: W: a matrix of weights for the layer - numpy ndarray\n",
        "           : b: a vector bias for the layer - numpy ndarray\n",
        "           : nb_params: the number of parameters  - int\n",
        "    \"\"\"\n",
        "    # START CODE HERE\n",
        "    W=np.random.normal(0,1,size=(n_input, n_output))\n",
        "    b = np.zeros(n_output)\n",
        "    nb_params=n_input+n_output\n",
        "    #nb_params=n_input*n_output + n_output\n",
        "    return W, b, nb_params\n",
        "    # END CODE HERE"
      ]
    },
    {
      "cell_type": "code",
      "execution_count": 41,
      "metadata": {
        "id": "DaK_7ui3ld8p"
      },
      "outputs": [],
      "source": [
        "n_training = train_images.shape[0] \n",
        "n_feature = train_images.shape[1] \n",
        "n_labels = 10\n",
        "W, b, nb_params = initLayer(n_feature, n_labels)\n",
        "#print('W shape:', W.shape)\n",
        "#print('b shape:', b.shape)\n",
        "#print('train images shape:', train_images.shape)"
      ]
    },
    {
      "cell_type": "code",
      "execution_count": 42,
      "metadata": {
        "id": "bX7srpjTld8p"
      },
      "outputs": [],
      "source": [
        "def forward(W, b, X):\n",
        "    \"\"\"\n",
        "    Perform the forward propagation\n",
        "    Inputs: W: the weights - numpy ndarray\n",
        "          : b: the bias - numpy ndarray\n",
        "          : X: the batch - numpy ndarray\n",
        "    Outputs: z: outputs - numpy ndarray\n",
        "    \"\"\"\n",
        "    #z = W.T@X + b\n",
        "    #z= np.dot(W.transpose(),X) + b\n",
        "    #z=X @ W + b \n",
        "    z= np.dot(X,W) + b\n",
        "    return z"
      ]
    },
    {
      "cell_type": "markdown",
      "metadata": {
        "id": "_z42d6RDld8p"
      },
      "source": [
        "## Computing the output \n",
        "\n",
        "To obtain classification probabilities, we use the softmax function:\n",
        "$$ \\mathbf{o} = softmax(\\mathbf{z}) \\text{         with          } o_i = \\frac{\\exp(z_i)}{\\sum_{j=0}^{9} \\exp(z_j)} $$\n",
        "\n",
        "The usual difficulty with the softmax function is the possibility of overflow when the scores $z_i$ are already large. Since a softmax is not affected by a shift affecting the whole vector $\\mathbf{z}$:\n",
        "$$ \\frac{\\exp(z_i - c)}{\\sum_{j=0}^{9} \\exp(z_j - c)} =  \\frac{\\exp(c) \\exp(z_i)}{\\exp(c) \\sum_{j=0}^{9} \\exp(z_j)} = \\frac{\\exp(z_i)}{\\sum_{j=0}^{9} \\exp(z_j)}$$\n",
        "what trick can we use to ensure we will not encounter any overflow ? "
      ]
    },
    {
      "cell_type": "code",
      "execution_count": 43,
      "metadata": {
        "id": "yGztPHoGld8q"
      },
      "outputs": [],
      "source": [
        "def softmax(z):\n",
        "    \"\"\"\n",
        "    Perform the softmax transformation to the pre-activation values\n",
        "    Inputs: z: the pre-activation values - numpy ndarray\n",
        "    Outputs: out: the activation values - numpy ndarray\n",
        "    \"\"\"\n",
        "    damping = np.max(z)\n",
        "    z = z - damping\n",
        "    out = np.exp(z)/np.sum(np.exp(z))\n",
        "    return out"
      ]
    },
    {
      "cell_type": "markdown",
      "metadata": {
        "id": "5tiOiK1pld8q"
      },
      "source": [
        "## Making updates\n",
        "\n",
        "We define a learning rate $\\eta$. The goal is to be able to apply updates:\n",
        "$$ \\mathbf{W}^{t+1} = \\mathbf{W}^{t} - \\nabla_{\\mathbf{W}} l_{MLE} $$\n",
        "\n",
        "In order to do this, we will compute this gradient (and the bias) in the function ```update```. In the next function ```updateParams```, we will actually apply the update with regularization. \n",
        "\n",
        "Reminder: the gradient $\\nabla_{\\mathbf{W}} l_{MLE}$ is the matrix containing the partial derivatives \n",
        "$$ \\left[\\frac{\\delta l_{MLE}}{\\delta W_{ij}}\\right]_{i=1..784, j=1..10} $$\n",
        "**Remark**: Careful, the usual way of implementing this in python has the dimensions of $\\mathbf{W}$ reversed compared to the notation of the slides.\n",
        "\n",
        "Coordinate by coordinate, we obtain the following update: \n",
        "$$ W_{ij}^{t+1} = W_{ij}^{t} - \\eta \\frac{\\delta l_{MLE}}{\\delta W_{ij}} $$\n",
        "\n",
        "Via the chain rule, we obtain, for an input feature $i \\in [0, 783]$ and a output class $j \\in [0, 9]$: $$\\frac{\\delta l_{MLE}}{\\delta W_{ij}} = \\frac{\\delta l_{MLE}}{\\delta z_{j}} \\frac{\\delta z_j}{\\delta W_{ij}}$$ \n",
        "\n",
        "It's easy to compute that $\\frac{\\delta z_j}{\\delta W_{ij}} = x_i$\n",
        "\n",
        "We compute the softmax derivative, to obtain:\n",
        "$$ \\nabla_{\\mathbf{z}} l_{MLE} = \\mathbf{o} - \\mathbf{y} $$\n",
        "\n",
        "Hence, $\\frac{\\delta l_{MLE}}{\\delta z_{j}} = o_j - y_j$ and we obtain that $$\\frac{\\delta l_{MLE}}{\\delta W_{ij}} = (o_j - y_j) x_i$$\n",
        "\n",
        "This can easily be written as a scalar product, and a similar computation (even easier, actually) can be done for $\\mathbf{b}$. Noting $\\nabla_{\\mathbf{z}} l_{MLE} = \\mathbf{o} - \\mathbf{y}$ as ```grad``` in the following function, compute the gradients $\\nabla_{\\mathbf{W}} l_{MLE}$ and $\\nabla_{\\mathbf{b}} l_{MLE}$ in order to call the function ```updateParams```.\n",
        "\n",
        "Note: the regularizer and the weight_decay $\\lambda$ are used in ```updateParams```."
      ]
    },
    {
      "cell_type": "code",
      "execution_count": 44,
      "metadata": {
        "id": "wsXAoqSmld8r"
      },
      "outputs": [],
      "source": [
        "def update(eta, W, b, grad, X, regularizer, weight_decay):\n",
        "    \"\"\"\n",
        "    Perform the update of the parameters\n",
        "    Inputs: eta: the step-size of the gradient descent - float \n",
        "          : W: the weights - ndarray\n",
        "          : b: the bias -  ndarray\n",
        "          : grad: the gradient of the activations w.r.t. to the loss -  list of ndarray\n",
        "          : X: the data -  ndarray\n",
        "          : regularizer: 'L2' or None - the regularizer to be used in updateParams\n",
        "          : weight_decay: the weight decay to be used in updateParams - float\n",
        "    Outputs: W: the weights updated -  ndarray\n",
        "           : b: the bias updated -  ndarray\n",
        "    \"\"\"\n",
        "    grad_w = X.reshape((-1,1)) @ grad.reshape((-1,1)).T\n",
        "    grad_b = grad\n",
        "        \n",
        "    W = updateParams(W, grad_w, eta, regularizer, weight_decay)\n",
        "    b = updateParams(b, grad_b, eta, regularizer, weight_decay)\n",
        "    return W, b"
      ]
    },
    {
      "cell_type": "code",
      "source": [
        "train_images.reshape((-1,1)).shape"
      ],
      "metadata": {
        "colab": {
          "base_uri": "https://localhost:8080/"
        },
        "id": "XythUkUIi0mO",
        "outputId": "3e61312b-6781-4324-9b65-622f69f5c179"
      },
      "execution_count": 45,
      "outputs": [
        {
          "output_type": "execute_result",
          "data": {
            "text/plain": [
              "(47040000, 1)"
            ]
          },
          "metadata": {},
          "execution_count": 45
        }
      ]
    },
    {
      "cell_type": "markdown",
      "metadata": {
        "id": "jqpWzdnmld8s"
      },
      "source": [
        "The update rule is affected by regularization. We implement two cases: No regularization, or L2 regularization. Use the two possible update rules to implement the following function:"
      ]
    },
    {
      "cell_type": "code",
      "execution_count": 46,
      "metadata": {
        "id": "Qi-S3lo_ld8t"
      },
      "outputs": [],
      "source": [
        "def updateParams(param, grad_param, eta, regularizer=None, weight_decay=0.):\n",
        "    \"\"\"\n",
        "    Perform the update of the parameters\n",
        "    Inputs: param: the network parameters - ndarray\n",
        "          : grad_param: the updates of the parameters - ndarray\n",
        "          : eta: the step-size of the gradient descent - float\n",
        "          : weight_decay: the weight-decay - float\n",
        "    Outputs: the parameters updated - ndarray\n",
        "    \"\"\"\n",
        "    if regularizer==None:\n",
        "        return param - eta*grad_param\n",
        "    elif regularizer=='L2':\n",
        "        return (1-2*weight_decay)*param - eta*grad_param\n",
        "    else:\n",
        "        raise NotImplementedError"
      ]
    },
    {
      "cell_type": "markdown",
      "metadata": {
        "id": "RBdqTRNHld8t"
      },
      "source": [
        "## Computing the Accuracy\n",
        "\n",
        "Here, we simply use the model to predict the class (by taking the argmax of the output !) for every example in ```X```, and count the number of times the model is right, to output the accuracy."
      ]
    },
    {
      "cell_type": "code",
      "execution_count": 47,
      "metadata": {
        "id": "5l68s07Yld8u"
      },
      "outputs": [],
      "source": [
        "def computeAcc(W, b, X, labels):\n",
        "    \"\"\"\n",
        "    Compute the loss value of the current network on the full batch\n",
        "    Inputs: act_func: the activation function - function\n",
        "          : W: the weights - list of ndarray\n",
        "          : B: the bias - list of ndarray\n",
        "          : X: the batch - ndarray\n",
        "          : labels: the labels corresponding to the batch\n",
        "    Outputs: loss: the negative log-likelihood - float\n",
        "           : accuracy: the ratio of examples that are well-classified - float\n",
        "    \"\"\" \n",
        "    ### Forward propagation\n",
        "    z = forward(W,b,X)\n",
        " \n",
        "    ### Compute the softmax and the prediction\n",
        "    out = softmax(z)\n",
        "    pred = np.argmax(out,axis=1)\n",
        "    true_label=np.argmax(labels,axis=1)\n",
        "    \n",
        "    ### Compute the accuracy\n",
        "    accuracy =np.mean(pred==true_label)\n",
        "      \n",
        "    return accuracy"
      ]
    },
    {
      "cell_type": "markdown",
      "metadata": {
        "id": "goCAwyU6ld8u"
      },
      "source": [
        "## Preparing training\n",
        "\n",
        "The following hyperparameters are given. Next, we can assemble all the function previously defined to implement a training loop. We will train the classifier on **one epoch**, meaning that the model will see each trainin example once. "
      ]
    },
    {
      "cell_type": "code",
      "execution_count": 48,
      "metadata": {
        "id": "h0FZBOv0ld8v"
      },
      "outputs": [],
      "source": [
        "# Optimization\n",
        "eta = 0.01\n",
        "regularizer = 'L2'\n",
        "weight_decay = 0.0001\n",
        "\n",
        "# Training\n",
        "log_interval = 5000\n"
      ]
    },
    {
      "cell_type": "code",
      "execution_count": 49,
      "metadata": {
        "id": "tKixhB5Yld8v",
        "outputId": "ea266604-3a6f-4aa9-ea0c-929dab2d6b7e",
        "colab": {
          "base_uri": "https://localhost:8080/"
        }
      },
      "outputs": [
        {
          "output_type": "stream",
          "name": "stdout",
          "text": [
            "0 train_acc=  0.09198333333333333 test_acc=  0.098 eta=  0.01\n",
            "5000 train_acc=  0.8115 test_acc=  0.0982 eta=  0.01\n",
            "10000 train_acc=  0.8461833333333333 test_acc=  0.0985 eta=  0.01\n",
            "15000 train_acc=  0.8296833333333333 test_acc=  0.1077 eta=  0.01\n",
            "20000 train_acc=  0.8419166666666666 test_acc=  0.1124 eta=  0.01\n",
            "25000 train_acc=  0.8201 test_acc=  0.1121 eta=  0.01\n",
            "30000 train_acc=  0.7974666666666667 test_acc=  0.104 eta=  0.01\n",
            "35000 train_acc=  0.7714 test_acc=  0.1028 eta=  0.01\n",
            "40000 train_acc=  0.82195 test_acc=  0.1006 eta=  0.01\n",
            "45000 train_acc=  0.8514166666666667 test_acc=  0.1168 eta=  0.01\n",
            "50000 train_acc=  0.8342666666666667 test_acc=  0.1028 eta=  0.01\n",
            "55000 train_acc=  0.801 test_acc=  0.1071 eta=  0.01\n",
            "Final result:  train_ac= 0.801 test_acc= 0.1071 eta=  0.01\n"
          ]
        }
      ],
      "source": [
        "# Data structures for plotting\n",
        "g_train_acc=[]\n",
        "g_valid_acc=[]\n",
        "\n",
        "#######################\n",
        "### Learning process ##\n",
        "#######################\n",
        "for j in range(n_training):\n",
        "    ### Getting the example\n",
        "    X, y = train_images[j].reshape((1,-1)),y_train[j].reshape((1,-1))\n",
        "    #X, y = train_images[j].reshape((-1,1)),y_train[j].reshape((-1,1))\n",
        "    ### Forward propagation\n",
        "    z = forward(W,b,X)\n",
        "\n",
        "    ### Compute the softmax\n",
        "    out = softmax(z)\n",
        "        \n",
        "    ### Compute the gradient at the top layer\n",
        "    derror = out - y # This is o - y \n",
        "\n",
        "    ### Update the parameters\n",
        "    W, b = update(eta,W,b,derror,X,regularizer,weight_decay)\n",
        "\n",
        "    if j % log_interval == 0:\n",
        "        ### Every log_interval examples, look at the training accuracy\n",
        "        train_accuracy = computeAcc(W, b, train_images, y_train) \n",
        "\n",
        "        ### And the testing accuracy\n",
        "        test_accuracy = computeAcc(W, b, X_test, y_test) \n",
        "\n",
        "        g_train_acc.append(train_accuracy)\n",
        "        g_valid_acc.append(test_accuracy)\n",
        "        result_line = str(int(j)) + \" train_acc=  \" + str(train_accuracy) + \" test_acc=  \" + str(test_accuracy) + \" eta=  \" + str(eta)\n",
        "        print(result_line)\n",
        "\n",
        "g_train_acc.append(train_accuracy)\n",
        "g_valid_acc.append(test_accuracy)\n",
        "result_line = \"Final result: \" + \" train_ac= \" + str(train_accuracy) + \" test_acc= \" + str(test_accuracy) + \" eta=  \" + str(eta)\n",
        "print(result_line)     "
      ]
    },
    {
      "cell_type": "markdown",
      "metadata": {
        "id": "5cGagPbfld8v"
      },
      "source": [
        "What can you say about the performance of this simple linear classifier ? "
      ]
    },
    {
      "cell_type": "markdown",
      "source": [
        "We have almost the same behaviour even if the train accuracy differ a little bit from the test_accuracy. We have an acceptable performance.The disadvantage of this linear classifier is that, if the data are strongly non-Gaussian, it can perform quite poorly relative to nonlinear classifiers"
      ],
      "metadata": {
        "id": "xoSSE85dSNCB"
      }
    }
  ],
  "metadata": {
    "accelerator": "GPU",
    "colab": {
      "collapsed_sections": [],
      "name": "Ex1.ipynb.txt",
      "provenance": [],
      "toc_visible": true
    },
    "kernelspec": {
      "display_name": "Python 3",
      "language": "python",
      "name": "python3"
    },
    "language_info": {
      "codemirror_mode": {
        "name": "ipython",
        "version": 3
      },
      "file_extension": ".py",
      "mimetype": "text/x-python",
      "name": "python",
      "nbconvert_exporter": "python",
      "pygments_lexer": "ipython3",
      "version": "3.7.10"
    }
  },
  "nbformat": 4,
  "nbformat_minor": 0
}